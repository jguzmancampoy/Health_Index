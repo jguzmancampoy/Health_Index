{
  "nbformat": 4,
  "nbformat_minor": 0,
  "metadata": {
    "colab": {
      "name": "Health_Security.ipynb",
      "provenance": [],
      "collapsed_sections": []
    },
    "kernelspec": {
      "name": "python3",
      "display_name": "Python 3"
    }
  },
  "cells": [
    {
      "cell_type": "code",
      "metadata": {
        "id": "TZ4Zb-m_Jcqi"
      },
      "source": [
        "import numpy as np\n",
        "import matplotlib.pyplot as plt\n",
        "import pandas as pd"
      ],
      "execution_count": 62,
      "outputs": []
    },
    {
      "cell_type": "code",
      "metadata": {
        "id": "xz7EjAyAJsME",
        "colab": {
          "base_uri": "https://localhost:8080/"
        },
        "outputId": "7fedfb8a-6b1d-4c3f-89aa-ca39443f5df7"
      },
      "source": [
        "!pip install causallib\n",
        "from causallib.estimation import IPW"
      ],
      "execution_count": 63,
      "outputs": [
        {
          "output_type": "stream",
          "text": [
            "Requirement already satisfied: causallib in /usr/local/lib/python3.6/dist-packages (0.6.0)\n",
            "Requirement already satisfied: scipy<1.5,>=0.19 in /usr/local/lib/python3.6/dist-packages (from causallib) (1.4.1)\n",
            "Requirement already satisfied: scikit-learn<1,>=0.20 in /usr/local/lib/python3.6/dist-packages (from causallib) (0.22.2.post1)\n",
            "Requirement already satisfied: networkx<3,>=1.1 in /usr/local/lib/python3.6/dist-packages (from causallib) (2.5)\n",
            "Requirement already satisfied: numpy<2,>=1.13 in /usr/local/lib/python3.6/dist-packages (from causallib) (1.19.5)\n",
            "Requirement already satisfied: seaborn<1,>=0.8 in /usr/local/lib/python3.6/dist-packages (from causallib) (0.11.1)\n",
            "Requirement already satisfied: statsmodels<1,>=0.8 in /usr/local/lib/python3.6/dist-packages (from causallib) (0.10.2)\n",
            "Requirement already satisfied: pandas<2,>=0.21 in /usr/local/lib/python3.6/dist-packages (from causallib) (1.1.5)\n",
            "Requirement already satisfied: matplotlib<4,>=2.2 in /usr/local/lib/python3.6/dist-packages (from causallib) (3.2.2)\n",
            "Requirement already satisfied: joblib>=0.11 in /usr/local/lib/python3.6/dist-packages (from scikit-learn<1,>=0.20->causallib) (1.0.0)\n",
            "Requirement already satisfied: decorator>=4.3.0 in /usr/local/lib/python3.6/dist-packages (from networkx<3,>=1.1->causallib) (4.4.2)\n",
            "Requirement already satisfied: patsy>=0.4.0 in /usr/local/lib/python3.6/dist-packages (from statsmodels<1,>=0.8->causallib) (0.5.1)\n",
            "Requirement already satisfied: pytz>=2017.2 in /usr/local/lib/python3.6/dist-packages (from pandas<2,>=0.21->causallib) (2018.9)\n",
            "Requirement already satisfied: python-dateutil>=2.7.3 in /usr/local/lib/python3.6/dist-packages (from pandas<2,>=0.21->causallib) (2.8.1)\n",
            "Requirement already satisfied: pyparsing!=2.0.4,!=2.1.2,!=2.1.6,>=2.0.1 in /usr/local/lib/python3.6/dist-packages (from matplotlib<4,>=2.2->causallib) (2.4.7)\n",
            "Requirement already satisfied: kiwisolver>=1.0.1 in /usr/local/lib/python3.6/dist-packages (from matplotlib<4,>=2.2->causallib) (1.3.1)\n",
            "Requirement already satisfied: cycler>=0.10 in /usr/local/lib/python3.6/dist-packages (from matplotlib<4,>=2.2->causallib) (0.10.0)\n",
            "Requirement already satisfied: six in /usr/local/lib/python3.6/dist-packages (from patsy>=0.4.0->statsmodels<1,>=0.8->causallib) (1.15.0)\n"
          ],
          "name": "stdout"
        }
      ]
    },
    {
      "cell_type": "code",
      "metadata": {
        "colab": {
          "resources": {
            "http://localhost:8080/nbextensions/google.colab/files.js": {
              "data": "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",
              "ok": true,
              "headers": [
                [
                  "content-type",
                  "application/javascript"
                ]
              ],
              "status": 200,
              "status_text": ""
            }
          },
          "base_uri": "https://localhost:8080/",
          "height": 73
        },
        "id": "HTf9KvXoXIYt",
        "outputId": "10b3f78d-0e9d-4cfb-a9bf-1442d09c51b4"
      },
      "source": [
        "from google.colab import files\r\n",
        "data = files.upload()"
      ],
      "execution_count": 64,
      "outputs": [
        {
          "output_type": "display_data",
          "data": {
            "text/html": [
              "\n",
              "     <input type=\"file\" id=\"files-680c3268-8ff2-4a8f-8b2a-e080adcd54e7\" name=\"files[]\" multiple disabled\n",
              "        style=\"border:none\" />\n",
              "     <output id=\"result-680c3268-8ff2-4a8f-8b2a-e080adcd54e7\">\n",
              "      Upload widget is only available when the cell has been executed in the\n",
              "      current browser session. Please rerun this cell to enable.\n",
              "      </output>\n",
              "      <script src=\"/nbextensions/google.colab/files.js\"></script> "
            ],
            "text/plain": [
              "<IPython.core.display.HTML object>"
            ]
          },
          "metadata": {
            "tags": []
          }
        },
        {
          "output_type": "stream",
          "text": [
            "Saving dimensions.csv to dimensions (3).csv\n"
          ],
          "name": "stdout"
        }
      ]
    },
    {
      "cell_type": "code",
      "metadata": {
        "id": "f1zDxj4dYJxa"
      },
      "source": [
        "import io\r\n",
        "df = pd.read_csv(io.BytesIO(data['dimensions.csv']))"
      ],
      "execution_count": 190,
      "outputs": []
    },
    {
      "cell_type": "code",
      "metadata": {
        "id": "3RS1NHlnYXTC",
        "colab": {
          "base_uri": "https://localhost:8080/",
          "height": 415
        },
        "outputId": "b6573148-a624-4fc5-80d2-198dd88d80e1"
      },
      "source": [
        "df"
      ],
      "execution_count": 191,
      "outputs": [
        {
          "output_type": "execute_result",
          "data": {
            "text/html": [
              "<div>\n",
              "<style scoped>\n",
              "    .dataframe tbody tr th:only-of-type {\n",
              "        vertical-align: middle;\n",
              "    }\n",
              "\n",
              "    .dataframe tbody tr th {\n",
              "        vertical-align: top;\n",
              "    }\n",
              "\n",
              "    .dataframe thead th {\n",
              "        text-align: right;\n",
              "    }\n",
              "</style>\n",
              "<table border=\"1\" class=\"dataframe\">\n",
              "  <thead>\n",
              "    <tr style=\"text-align: right;\">\n",
              "      <th></th>\n",
              "      <th>prevent</th>\n",
              "      <th>detect</th>\n",
              "      <th>response</th>\n",
              "      <th>health</th>\n",
              "      <th>norms</th>\n",
              "      <th>risk</th>\n",
              "    </tr>\n",
              "  </thead>\n",
              "  <tbody>\n",
              "    <tr>\n",
              "      <th>0</th>\n",
              "      <td>23.5</td>\n",
              "      <td>44.8</td>\n",
              "      <td>23.6</td>\n",
              "      <td>21.0</td>\n",
              "      <td>56.3</td>\n",
              "      <td>23.3</td>\n",
              "    </tr>\n",
              "    <tr>\n",
              "      <th>1</th>\n",
              "      <td>43.8</td>\n",
              "      <td>74.3</td>\n",
              "      <td>52.0</td>\n",
              "      <td>35.9</td>\n",
              "      <td>53.0</td>\n",
              "      <td>55.7</td>\n",
              "    </tr>\n",
              "    <tr>\n",
              "      <th>2</th>\n",
              "      <td>25.7</td>\n",
              "      <td>12.0</td>\n",
              "      <td>19.6</td>\n",
              "      <td>13.1</td>\n",
              "      <td>29.1</td>\n",
              "      <td>51.4</td>\n",
              "    </tr>\n",
              "    <tr>\n",
              "      <th>3</th>\n",
              "      <td>27.9</td>\n",
              "      <td>14.2</td>\n",
              "      <td>30.5</td>\n",
              "      <td>9.2</td>\n",
              "      <td>32.4</td>\n",
              "      <td>83.5</td>\n",
              "    </tr>\n",
              "    <tr>\n",
              "      <th>4</th>\n",
              "      <td>24.0</td>\n",
              "      <td>17.9</td>\n",
              "      <td>21.7</td>\n",
              "      <td>10.9</td>\n",
              "      <td>41.4</td>\n",
              "      <td>42.2</td>\n",
              "    </tr>\n",
              "    <tr>\n",
              "      <th>...</th>\n",
              "      <td>...</td>\n",
              "      <td>...</td>\n",
              "      <td>...</td>\n",
              "      <td>...</td>\n",
              "      <td>...</td>\n",
              "      <td>...</td>\n",
              "    </tr>\n",
              "    <tr>\n",
              "      <th>190</th>\n",
              "      <td>23.5</td>\n",
              "      <td>8.7</td>\n",
              "      <td>19.7</td>\n",
              "      <td>12.9</td>\n",
              "      <td>42.2</td>\n",
              "      <td>38.2</td>\n",
              "    </tr>\n",
              "    <tr>\n",
              "      <th>191</th>\n",
              "      <td>49.5</td>\n",
              "      <td>57.4</td>\n",
              "      <td>43.0</td>\n",
              "      <td>28.3</td>\n",
              "      <td>64.6</td>\n",
              "      <td>53.4</td>\n",
              "    </tr>\n",
              "    <tr>\n",
              "      <th>192</th>\n",
              "      <td>15.1</td>\n",
              "      <td>9.0</td>\n",
              "      <td>19.0</td>\n",
              "      <td>7.6</td>\n",
              "      <td>40.3</td>\n",
              "      <td>23.5</td>\n",
              "    </tr>\n",
              "    <tr>\n",
              "      <th>193</th>\n",
              "      <td>24.5</td>\n",
              "      <td>21.9</td>\n",
              "      <td>28.6</td>\n",
              "      <td>20.3</td>\n",
              "      <td>38.0</td>\n",
              "      <td>44.2</td>\n",
              "    </tr>\n",
              "    <tr>\n",
              "      <th>194</th>\n",
              "      <td>31.4</td>\n",
              "      <td>65.6</td>\n",
              "      <td>30.1</td>\n",
              "      <td>14.7</td>\n",
              "      <td>45.9</td>\n",
              "      <td>39.2</td>\n",
              "    </tr>\n",
              "  </tbody>\n",
              "</table>\n",
              "<p>195 rows × 6 columns</p>\n",
              "</div>"
            ],
            "text/plain": [
              "     prevent  detect  response  health  norms  risk\n",
              "0       23.5    44.8      23.6    21.0   56.3  23.3\n",
              "1       43.8    74.3      52.0    35.9   53.0  55.7\n",
              "2       25.7    12.0      19.6    13.1   29.1  51.4\n",
              "3       27.9    14.2      30.5     9.2   32.4  83.5\n",
              "4       24.0    17.9      21.7    10.9   41.4  42.2\n",
              "..       ...     ...       ...     ...    ...   ...\n",
              "190     23.5     8.7      19.7    12.9   42.2  38.2\n",
              "191     49.5    57.4      43.0    28.3   64.6  53.4\n",
              "192     15.1     9.0      19.0     7.6   40.3  23.5\n",
              "193     24.5    21.9      28.6    20.3   38.0  44.2\n",
              "194     31.4    65.6      30.1    14.7   45.9  39.2\n",
              "\n",
              "[195 rows x 6 columns]"
            ]
          },
          "metadata": {
            "tags": []
          },
          "execution_count": 191
        }
      ]
    },
    {
      "cell_type": "code",
      "metadata": {
        "colab": {
          "base_uri": "https://localhost:8080/",
          "height": 298
        },
        "id": "bs8UuM0pdYyh",
        "outputId": "ed93a4bf-4a06-4e42-f995-a84ad849d68e"
      },
      "source": [
        "import scipy.stats as ss\r\n",
        "\r\n",
        "plt.figure(figsize = (8,4))\r\n",
        "\r\n",
        "bins = 10\r\n",
        "\r\n",
        "\r\n",
        "(mu, sigma) = ss.norm.fit(df['prevent'])\r\n",
        "\r\n",
        "# the histogram of the data\r\n",
        "\r\n",
        "plt.hist(df['prevent'], 100, density= True, facecolor='green', alpha=0.5)\r\n",
        "\r\n",
        "# add a 'best fit' line\r\n",
        "y = ss.norm.pdf(mu, sigma)\r\n",
        "plt.plot(y, 'r--', linewidth=2)\r\n",
        "\r\n",
        "#plot\r\n",
        "plt.grid(True)\r\n",
        "plt.xlabel('prevent_score')\r\n",
        "plt.ylabel('Probability')\r\n",
        "plt.title(r'$\\mathrm{Histogram\\ of\\ prevent\\ scores\\:}\\ \\mu=%.3f,\\ \\sigma=%.3f$' %(mu, sigma))\r\n",
        "\r\n",
        "\r\n",
        "plt.show()"
      ],
      "execution_count": 182,
      "outputs": [
        {
          "output_type": "display_data",
          "data": {
            "image/png": "[encoded data removed]",
            "text/plain": [
              "<Figure size 576x288 with 1 Axes>"
            ]
          },
          "metadata": {
            "tags": [],
            "needs_background": "light"
          }
        }
      ]
    },
    {
      "cell_type": "code",
      "metadata": {
        "colab": {
          "base_uri": "https://localhost:8080/",
          "height": 298
        },
        "id": "2uWRc1B5d62y",
        "outputId": "9fa6124a-5ba5-4313-fee4-7db02f400d32"
      },
      "source": [
        "plt.figure(figsize = (8,4))\r\n",
        "\r\n",
        "bins = 10\r\n",
        "\r\n",
        "\r\n",
        "(mu, sigma) = ss.norm.fit(df['detect'])\r\n",
        "\r\n",
        "# the histogram of the data\r\n",
        "\r\n",
        "plt.hist(df['detect'], 100, density= True, facecolor='green', alpha=0.5)\r\n",
        "\r\n",
        "# add a 'best fit' line\r\n",
        "y = ss.norm.pdf(mu, sigma)\r\n",
        "plt.plot(y, 'r--', linewidth=2)\r\n",
        "\r\n",
        "#plot\r\n",
        "plt.grid(True)\r\n",
        "plt.xlabel('detect_score')\r\n",
        "plt.ylabel('Probability')\r\n",
        "plt.title(r'$\\mathrm{Histogram\\ of\\ detect\\ scores\\:}\\ \\mu=%.3f,\\ \\sigma=%.3f$' %(mu, sigma))\r\n",
        "\r\n",
        "\r\n",
        "plt.show()"
      ],
      "execution_count": 183,
      "outputs": [
        {
          "output_type": "display_data",
          "data": {
            "image/png": "[encoded data removed]",
            "text/plain": [
              "<Figure size 576x288 with 1 Axes>"
            ]
          },
          "metadata": {
            "tags": [],
            "needs_background": "light"
          }
        }
      ]
    },
    {
      "cell_type": "code",
      "metadata": {
        "colab": {
          "base_uri": "https://localhost:8080/",
          "height": 297
        },
        "id": "4lnaIWQUehvJ",
        "outputId": "be2a9311-86f2-430e-ab94-1b7c11c780f9"
      },
      "source": [
        "plt.figure(figsize = (8,4))\r\n",
        "\r\n",
        "bins = 10\r\n",
        "\r\n",
        "\r\n",
        "(mu, sigma) = ss.norm.fit(df['response'])\r\n",
        "\r\n",
        "# the histogram of the data\r\n",
        "\r\n",
        "plt.hist(df['response'], 100, density= True, facecolor='green', alpha=0.5)\r\n",
        "\r\n",
        "# add a 'best fit' line\r\n",
        "y = ss.norm.pdf(mu, sigma)\r\n",
        "plt.plot(y, 'r--', linewidth=2)\r\n",
        "\r\n",
        "#plot\r\n",
        "plt.grid(True)\r\n",
        "plt.xlabel('response_score')\r\n",
        "plt.ylabel('Probability')\r\n",
        "plt.title(r'$\\mathrm{Histogram\\ of\\ response\\ scores\\:}\\ \\mu=%.3f,\\ \\sigma=%.3f$' %(mu, sigma))\r\n",
        "\r\n",
        "\r\n",
        "plt.show()"
      ],
      "execution_count": 184,
      "outputs": [
        {
          "output_type": "display_data",
          "data": {
            "image/png": "[encoded data removed]",
            "text/plain": [
              "<Figure size 576x288 with 1 Axes>"
            ]
          },
          "metadata": {
            "tags": [],
            "needs_background": "light"
          }
        }
      ]
    },
    {
      "cell_type": "code",
      "metadata": {
        "colab": {
          "base_uri": "https://localhost:8080/",
          "height": 298
        },
        "id": "udYS0yVrers5",
        "outputId": "b8e84c8e-bba9-4fda-bb38-6d6c5112dc4f"
      },
      "source": [
        "plt.figure(figsize = (8,4))\r\n",
        "\r\n",
        "bins = 10\r\n",
        "\r\n",
        "\r\n",
        "(mu, sigma) = ss.norm.fit(df['health'])\r\n",
        "\r\n",
        "# the histogram of the data\r\n",
        "\r\n",
        "plt.hist(df['health'], 100, density= True, facecolor='green', alpha=0.5)\r\n",
        "\r\n",
        "# add a 'best fit' line\r\n",
        "y = ss.norm.pdf(mu, sigma)\r\n",
        "plt.plot(y, 'r--', linewidth=2)\r\n",
        "\r\n",
        "#plot\r\n",
        "plt.grid(True)\r\n",
        "plt.xlabel('health_score')\r\n",
        "plt.ylabel('Probability')\r\n",
        "plt.title(r'$\\mathrm{Histogram\\ of\\ health\\ scores\\:}\\ \\mu=%.3f,\\ \\sigma=%.3f$' %(mu, sigma))\r\n",
        "\r\n",
        "\r\n",
        "plt.show()"
      ],
      "execution_count": 192,
      "outputs": [
        {
          "output_type": "display_data",
          "data": {
            "image/png": "[encoded data removed]",
            "text/plain": [
              "<Figure size 576x288 with 1 Axes>"
            ]
          },
          "metadata": {
            "tags": [],
            "needs_background": "light"
          }
        }
      ]
    },
    {
      "cell_type": "code",
      "metadata": {
        "colab": {
          "base_uri": "https://localhost:8080/",
          "height": 315
        },
        "id": "8aEFSgO-fFb8",
        "outputId": "787500e4-2583-45b6-eda3-55455eae0955"
      },
      "source": [
        "plt.figure(figsize = (8,4))\r\n",
        "\r\n",
        "bins = 10\r\n",
        "\r\n",
        "\r\n",
        "(mu, sigma) = ss.norm.fit(df['norms'])\r\n",
        "\r\n",
        "# the histogram of the data\r\n",
        "\r\n",
        "plt.hist(df['norms'], 100, density= True, facecolor='green', alpha=0.5)\r\n",
        "\r\n",
        "# add a 'best fit' line\r\n",
        "y = ss.norm.pdf(bins, mu, sigma)\r\n",
        "plt.plot(y, 'r--', linewidth=2)\r\n",
        "\r\n",
        "#plot\r\n",
        "plt.grid(True)\r\n",
        "plt.xlabel('norms_score')\r\n",
        "plt.ylabel('Probability')\r\n",
        "plt.title(r'$\\mathrm{Histogram\\ of\\ norms\\ scores\\:}\\ \\mu=%.3f,\\ \\sigma=%.3f$' %(mu, sigma))\r\n",
        "\r\n"
      ],
      "execution_count": 186,
      "outputs": [
        {
          "output_type": "execute_result",
          "data": {
            "text/plain": [
              "Text(0.5, 1.0, '$\\\\mathrm{Histogram\\\\ of\\\\ norms\\\\ scores\\\\:}\\\\ \\\\mu=48.485,\\\\ \\\\sigma=12.610$')"
            ]
          },
          "metadata": {
            "tags": []
          },
          "execution_count": 186
        },
        {
          "output_type": "display_data",
          "data": {
            "image/png": "[encoded data removed]",
            "text/plain": [
              "<Figure size 576x288 with 1 Axes>"
            ]
          },
          "metadata": {
            "tags": [],
            "needs_background": "light"
          }
        }
      ]
    },
    {
      "cell_type": "code",
      "metadata": {
        "colab": {
          "base_uri": "https://localhost:8080/",
          "height": 315
        },
        "id": "OvDsjj8RfnCD",
        "outputId": "8a43233e-72cb-46dd-97b5-71f21c64a9ca"
      },
      "source": [
        "plt.figure(figsize = (8,4))\r\n",
        "\r\n",
        "bins = 10\r\n",
        "\r\n",
        "\r\n",
        "(mu, sigma) = ss.norm.fit(df['risk'])\r\n",
        "\r\n",
        "# the histogram of the data\r\n",
        "\r\n",
        "plt.hist(df['risk'], 100, density= True, facecolor='green', alpha=0.5)\r\n",
        "\r\n",
        "# add a 'best fit' line\r\n",
        "y = ss.norm.pdf(bins, mu, sigma)\r\n",
        "plt.plot(y, 'r--', linewidth=2)\r\n",
        "\r\n",
        "#plot\r\n",
        "plt.grid(True)\r\n",
        "plt.xlabel('risk_score')\r\n",
        "plt.ylabel('Probability')\r\n",
        "plt.title(r'$\\mathrm{Histogram\\ of\\ risk\\ scores\\:}\\ \\mu=%.3f,\\ \\sigma=%.3f$' %(mu, sigma))\r\n",
        "\r\n"
      ],
      "execution_count": 187,
      "outputs": [
        {
          "output_type": "execute_result",
          "data": {
            "text/plain": [
              "Text(0.5, 1.0, '$\\\\mathrm{Histogram\\\\ of\\\\ risk\\\\ scores\\\\:}\\\\ \\\\mu=55.031,\\\\ \\\\sigma=16.161$')"
            ]
          },
          "metadata": {
            "tags": []
          },
          "execution_count": 187
        },
        {
          "output_type": "display_data",
          "data": {
            "image/png": "[encoded data removed]",
            "text/plain": [
              "<Figure size 576x288 with 1 Axes>"
            ]
          },
          "metadata": {
            "tags": [],
            "needs_background": "light"
          }
        }
      ]
    },
    {
      "cell_type": "code",
      "metadata": {
        "id": "mNdzmfjAe18f"
      },
      "source": [
        "from sklearn.linear_model import LogisticRegression\r\n",
        "learner = LogisticRegression(penalty='none',  # No regularization, new in scikit-learn 0.21.*\r\n",
        "                             solver='lbfgs',\r\n",
        "                             max_iter=10000)\r\n",
        "ipw = IPW(learner)"
      ],
      "execution_count": 193,
      "outputs": []
    },
    {
      "cell_type": "code",
      "metadata": {
        "colab": {
          "base_uri": "https://localhost:8080/"
        },
        "id": "QvI1yjvywjcn",
        "outputId": "d1cc26cd-9690-42fe-e8a4-7ea291591187"
      },
      "source": [
        "norms = pd.cut(df['norms'], 2, labels=[0,1])\r\n",
        "norms\r\n",
        "\r\n",
        "#health = pd.cut(df['health'], 2, labels = [0,1])\r\n",
        "#health"
      ],
      "execution_count": 194,
      "outputs": [
        {
          "output_type": "execute_result",
          "data": {
            "text/plain": [
              "0      0\n",
              "1      0\n",
              "2      0\n",
              "3      0\n",
              "4      0\n",
              "      ..\n",
              "190    0\n",
              "191    0\n",
              "192    0\n",
              "193    0\n",
              "194    0\n",
              "Name: health, Length: 195, dtype: category\n",
              "Categories (2, int64): [0 < 1]"
            ]
          },
          "metadata": {
            "tags": []
          },
          "execution_count": 194
        }
      ]
    },
    {
      "cell_type": "code",
      "metadata": {
        "colab": {
          "base_uri": "https://localhost:8080/",
          "height": 415
        },
        "id": "da8hAd5bfHL0",
        "outputId": "3bc70817-b9c5-435c-f598-12cbb768f74e"
      },
      "source": [
        "#extracting\r\n",
        "a = norms\r\n",
        "#a = health\r\n",
        "y = df.pop(\"health\")\r\n",
        "#y = df.pop(\"norms\")\r\n",
        "X = df\r\n",
        "X\r\n"
      ],
      "execution_count": 195,
      "outputs": [
        {
          "output_type": "execute_result",
          "data": {
            "text/html": [
              "<div>\n",
              "<style scoped>\n",
              "    .dataframe tbody tr th:only-of-type {\n",
              "        vertical-align: middle;\n",
              "    }\n",
              "\n",
              "    .dataframe tbody tr th {\n",
              "        vertical-align: top;\n",
              "    }\n",
              "\n",
              "    .dataframe thead th {\n",
              "        text-align: right;\n",
              "    }\n",
              "</style>\n",
              "<table border=\"1\" class=\"dataframe\">\n",
              "  <thead>\n",
              "    <tr style=\"text-align: right;\">\n",
              "      <th></th>\n",
              "      <th>prevent</th>\n",
              "      <th>detect</th>\n",
              "      <th>response</th>\n",
              "      <th>health</th>\n",
              "      <th>risk</th>\n",
              "    </tr>\n",
              "  </thead>\n",
              "  <tbody>\n",
              "    <tr>\n",
              "      <th>0</th>\n",
              "      <td>23.5</td>\n",
              "      <td>44.8</td>\n",
              "      <td>23.6</td>\n",
              "      <td>21.0</td>\n",
              "      <td>23.3</td>\n",
              "    </tr>\n",
              "    <tr>\n",
              "      <th>1</th>\n",
              "      <td>43.8</td>\n",
              "      <td>74.3</td>\n",
              "      <td>52.0</td>\n",
              "      <td>35.9</td>\n",
              "      <td>55.7</td>\n",
              "    </tr>\n",
              "    <tr>\n",
              "      <th>2</th>\n",
              "      <td>25.7</td>\n",
              "      <td>12.0</td>\n",
              "      <td>19.6</td>\n",
              "      <td>13.1</td>\n",
              "      <td>51.4</td>\n",
              "    </tr>\n",
              "    <tr>\n",
              "      <th>3</th>\n",
              "      <td>27.9</td>\n",
              "      <td>14.2</td>\n",
              "      <td>30.5</td>\n",
              "      <td>9.2</td>\n",
              "      <td>83.5</td>\n",
              "    </tr>\n",
              "    <tr>\n",
              "      <th>4</th>\n",
              "      <td>24.0</td>\n",
              "      <td>17.9</td>\n",
              "      <td>21.7</td>\n",
              "      <td>10.9</td>\n",
              "      <td>42.2</td>\n",
              "    </tr>\n",
              "    <tr>\n",
              "      <th>...</th>\n",
              "      <td>...</td>\n",
              "      <td>...</td>\n",
              "      <td>...</td>\n",
              "      <td>...</td>\n",
              "      <td>...</td>\n",
              "    </tr>\n",
              "    <tr>\n",
              "      <th>190</th>\n",
              "      <td>23.5</td>\n",
              "      <td>8.7</td>\n",
              "      <td>19.7</td>\n",
              "      <td>12.9</td>\n",
              "      <td>38.2</td>\n",
              "    </tr>\n",
              "    <tr>\n",
              "      <th>191</th>\n",
              "      <td>49.5</td>\n",
              "      <td>57.4</td>\n",
              "      <td>43.0</td>\n",
              "      <td>28.3</td>\n",
              "      <td>53.4</td>\n",
              "    </tr>\n",
              "    <tr>\n",
              "      <th>192</th>\n",
              "      <td>15.1</td>\n",
              "      <td>9.0</td>\n",
              "      <td>19.0</td>\n",
              "      <td>7.6</td>\n",
              "      <td>23.5</td>\n",
              "    </tr>\n",
              "    <tr>\n",
              "      <th>193</th>\n",
              "      <td>24.5</td>\n",
              "      <td>21.9</td>\n",
              "      <td>28.6</td>\n",
              "      <td>20.3</td>\n",
              "      <td>44.2</td>\n",
              "    </tr>\n",
              "    <tr>\n",
              "      <th>194</th>\n",
              "      <td>31.4</td>\n",
              "      <td>65.6</td>\n",
              "      <td>30.1</td>\n",
              "      <td>14.7</td>\n",
              "      <td>39.2</td>\n",
              "    </tr>\n",
              "  </tbody>\n",
              "</table>\n",
              "<p>195 rows × 5 columns</p>\n",
              "</div>"
            ],
            "text/plain": [
              "     prevent  detect  response  health  risk\n",
              "0       23.5    44.8      23.6    21.0  23.3\n",
              "1       43.8    74.3      52.0    35.9  55.7\n",
              "2       25.7    12.0      19.6    13.1  51.4\n",
              "3       27.9    14.2      30.5     9.2  83.5\n",
              "4       24.0    17.9      21.7    10.9  42.2\n",
              "..       ...     ...       ...     ...   ...\n",
              "190     23.5     8.7      19.7    12.9  38.2\n",
              "191     49.5    57.4      43.0    28.3  53.4\n",
              "192     15.1     9.0      19.0     7.6  23.5\n",
              "193     24.5    21.9      28.6    20.3  44.2\n",
              "194     31.4    65.6      30.1    14.7  39.2\n",
              "\n",
              "[195 rows x 5 columns]"
            ]
          },
          "metadata": {
            "tags": []
          },
          "execution_count": 195
        }
      ]
    },
    {
      "cell_type": "code",
      "metadata": {
        "id": "l2BoikyMfSwD"
      },
      "source": [
        "ipw.fit(X, a)\r\n",
        "outcomes = ipw.estimate_population_outcome(X, a, y)\r\n",
        "effect = ipw.estimate_effect(outcomes[1], outcomes[0])"
      ],
      "execution_count": 196,
      "outputs": []
    },
    {
      "cell_type": "code",
      "metadata": {
        "colab": {
          "base_uri": "https://localhost:8080/"
        },
        "id": "TTrsXDI-fvdA",
        "outputId": "22c24f6a-1a1b-4858-c296-950ead09b3f7"
      },
      "source": [
        "outcomes"
      ],
      "execution_count": 200,
      "outputs": [
        {
          "output_type": "execute_result",
          "data": {
            "text/plain": [
              "0    44.958451\n",
              "1    57.932075\n",
              "dtype: float64"
            ]
          },
          "metadata": {
            "tags": []
          },
          "execution_count": 200
        }
      ]
    },
    {
      "cell_type": "code",
      "metadata": {
        "colab": {
          "base_uri": "https://localhost:8080/"
        },
        "id": "qakAX14lyDjN",
        "outputId": "1dbb3c28-076c-442c-f5fa-c280c9eeffb5"
      },
      "source": [
        "effect"
      ],
      "execution_count": 201,
      "outputs": [
        {
          "output_type": "execute_result",
          "data": {
            "text/plain": [
              "diff    12.973624\n",
              "dtype: float64"
            ]
          },
          "metadata": {
            "tags": []
          },
          "execution_count": 201
        }
      ]
    },
    {
      "cell_type": "code",
      "metadata": {
        "colab": {
          "base_uri": "https://localhost:8080/",
          "height": 431
        },
        "id": "wnzbhXLryEtJ",
        "outputId": "55dfe99c-2953-45e8-9021-872c0599286f"
      },
      "source": [
        "%matplotlib inline\r\n",
        "from causallib.evaluation import PropensityEvaluator\r\n",
        "\r\n",
        "evaluator = PropensityEvaluator(ipw)\r\n",
        "evaluation_results = evaluator.evaluate_simple(X, a, y, plots=[\"covariate_balance_love\"])\r\n",
        "\r\n",
        "fig = evaluation_results.plots[\"covariate_balance_love\"].get_figure()\r\n",
        "fig.set_size_inches(6, 6)  # set a more compact size than default\r\n",
        "fig;"
      ],
      "execution_count": 199,
      "outputs": [
        {
          "output_type": "display_data",
          "data": {
            "image/png": "[encoded data removed]",
            "text/plain": [
              "<Figure size 432x432 with 1 Axes>"
            ]
          },
          "metadata": {
            "tags": [],
            "needs_background": "light"
          }
        }
      ]
    },
    {
      "cell_type": "code",
      "metadata": {
        "id": "OcXNL0VyybV1"
      },
      "source": [
        ""
      ],
      "execution_count": null,
      "outputs": []
    }
  ]
}